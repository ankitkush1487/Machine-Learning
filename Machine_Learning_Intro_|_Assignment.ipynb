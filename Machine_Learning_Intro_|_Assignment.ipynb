{
  "nbformat": 4,
  "nbformat_minor": 0,
  "metadata": {
    "colab": {
      "provenance": [],
      "authorship_tag": "ABX9TyOp7p0J1TFKwybcWLFb3nfv",
      "include_colab_link": true
    },
    "kernelspec": {
      "name": "python3",
      "display_name": "Python 3"
    },
    "language_info": {
      "name": "python"
    }
  },
  "cells": [
    {
      "cell_type": "markdown",
      "metadata": {
        "id": "view-in-github",
        "colab_type": "text"
      },
      "source": [
        "<a href=\"https://colab.research.google.com/github/ankitkush1487/Machine-Learning/blob/main/Machine_Learning_Intro_%7C_Assignment.ipynb\" target=\"_parent\"><img src=\"https://colab.research.google.com/assets/colab-badge.svg\" alt=\"Open In Colab\"/></a>"
      ]
    },
    {
      "cell_type": "markdown",
      "source": [
        "**Machine Learning Intro|Assignment**"
      ],
      "metadata": {
        "id": "Jnx4CxjJMgPa"
      }
    },
    {
      "cell_type": "markdown",
      "source": [
        "**Question 1: Explain the differences between AI, ML, Deep Learning (DL), and Data Science (DS).**\n",
        "\n",
        " **Artificial Intelligence(AI)**\n",
        "\n",
        "Definition: AI is the broadest field. It refers to the ability of machines to perform tasks that normally require human intelligence.\n",
        "\n",
        "To build systems that can simulate human thinking, decision-making, problem-solving, and learning.\n",
        "\n",
        "Examples:\n",
        "\n",
        "Chatbots\n",
        "\n",
        "**Machine Learning(ML)**\n",
        "\n",
        "Definition: ML is a subset of AI. It focuses on algorithms that allow systems to learn from data and improve performance without being explicitly programmed.\n",
        "\n",
        "To make predictions or decisions based on patterns in data.\n",
        "\n",
        "Techniques: Supervised, Unsupervised, and Reinforcement Learning.\n",
        "\n",
        "Examples:\n",
        "\n",
        "Spam email detection\n",
        "\n",
        "**Deep Learning(DL)**\n",
        "\n",
        "Definition: DL is a subset of ML that uses artificial neural networks with many layers (deep architectures).\n",
        "\n",
        "To handle very complex problems with huge amounts of data and extract features automatically.\n",
        "\n",
        "Strength: Works extremely well for images, videos, speech, and natural language.\n",
        "\n",
        "Examples:\n",
        "\n",
        "Face recognition in photos\n",
        "\n",
        "**Data Science(DS)**\n",
        "\n",
        "Definition: Data Science is a multidisciplinary field that uses statistics, mathematics, programming, and domain knowledge to extract insights from data.\n",
        "\n",
        "To analyze and interpret large datasets to solve business or scientific problems.\n",
        "\n",
        "Tools: Python, R, SQL, Hadoop, Power BI, etc.\n",
        "\n",
        "Examples:\n",
        "\n",
        "Business analytics dashboards"
      ],
      "metadata": {
        "id": "VWqozBQkMnW_"
      }
    },
    {
      "cell_type": "markdown",
      "source": [
        "**Question 2: What are the types of machine learning? Describe each with one real-world example.**\n",
        "\n",
        "**Supervised Learning**\n",
        "\n",
        "In this type, algorithms are trained on a dataset with both input features and corresponding correct output labels. The goal is to learn a mapping from inputs to outputs, allowing the model to predict outcomes for new, unseen data.\n",
        "\n",
        "Real-World Example:\n",
        "\n",
        "Email Spam Detection. An algorithm learns from a dataset of emails, where each email is labeled as either \"spam\" or \"not spam.\" Once trained, it can accurately classify new incoming emails as spam or not spam.\n",
        "\n",
        "**Unsupervised Learning**\n",
        "\n",
        "This method involves training an algorithm on unlabeled data. The algorithm's task is to discover hidden patterns, structures, or groupings within the data without prior knowledge of the \"correct\" outputs.\n",
        "\n",
        "Real-World Example:\n",
        "\n",
        "Customer Segmentation. A company uses unsupervised learning to group its customers into different segments based on shared characteristics (e.g., purchasing behavior, demographics) to understand its customer base better, without knowing the categories in advance.\n",
        "\n",
        "\n",
        "**Reinforcement Learning**\n",
        "\n",
        "Reinforcement learning involves an \"agent\" that learns to make a sequence of decisions by interacting with an environment. The agent receives positive rewards for good actions and negative penalties for bad ones, with the ultimate goal of maximizing its cumulative reward.\n",
        "\n",
        "Real-World Example:\n",
        "\n",
        "Robotics and Game Playing. A robot learning to navigate a maze receives a reward for reaching the exit and penalties for hitting obstacles, allowing it to learn the optimal path through trial and error.\n",
        "\n",
        "**Semi-Supervised Learning**\n",
        "\n",
        "This approach bridges the gap between supervised and unsupervised learning by using a small amount of labeled data along with a large amount of unlabeled data. The labeled data provides initial guidance, while the unlabeled data helps the model to refine its understanding and improve accuracy.\n",
        "\n",
        "Real-World Example:\n",
        "\n",
        "Image and Speech Recognition. A model is initially trained on a small set of labeled images (e.g., photos labeled as \"cat\" or \"dog\") and then uses a much larger dataset of unlabeled images to learn finer details and improve its ability to recognize various objects or sounds"
      ],
      "metadata": {
        "id": "Pr5u7ZLPOPe5"
      }
    },
    {
      "cell_type": "markdown",
      "source": [
        "**Question 3: Define overfitting, underfitting, and the bias-variance tradeoff in machine learning.**\n",
        "\n",
        "**Overfitting:**\n",
        "\n",
        "Overfitting occurs when a machine learning model learns the training data too well, including the noise and specific details that are not representative of the underlying patterns. This leads to a model that performs exceptionally well on the training data but poorly on unseen, new data because it has essentially memorized the training examples rather than generalizing from them. Overfit models exhibit high variance.\n",
        "\n",
        "**Underfitting:**\n",
        "\n",
        "Underfitting occurs when a machine learning model is too simplistic to capture the underlying patterns in the training data. This results in poor performance on both the training data and unseen data because the model is unable to learn the fundamental relationships. Underfit models exhibit high bias.\n",
        "\n",
        "**Bias-Variance Tradeoff:**\n",
        "\n",
        "The bias-variance tradeoff is a fundamental concept in machine learning that describes the relationship between a model's complexity and its ability to generalize to new data.\n"
      ],
      "metadata": {
        "id": "Uj7rVnx1PLu2"
      }
    },
    {
      "cell_type": "markdown",
      "source": [
        "**Question 4: What are outliers in a dataset, and list three common techniques for handling them.**\n",
        "\n",
        "Definition:\n",
        "Outliers are data points that deviate significantly from the rest of the dataset.\n",
        "\n",
        "They are unusually high or low values compared to other observations.\n",
        "\n",
        "Impact:\n",
        "\n",
        "Can skew statistical results (mean, standard deviation).\n",
        "\n",
        "Can affect the performance of machine learning models.\n",
        "\n",
        "Example:\n",
        "In exam scores [45, 50, 52, 48, 49, 100], the score 100 is an outlier because it’s far from the rest.\n",
        "\n",
        "Techniques for Handling Outliers\n",
        "1. Removal (Deletion)\n",
        "\n",
        "If outliers are due to data entry errors or noise, they can be removed.\n",
        "\n",
        "Example: A recorded height of 250 cm in human dataset.\n",
        "\n",
        "Use case: Works when dataset is large, and removing a few points won’t harm.\n",
        "\n",
        "2. Transformation\n",
        "\n",
        "Apply mathematical transformations to reduce the effect of extreme values.\n",
        "\n",
        "Techniques: Log transform, Square root transform, Box-Cox transform.\n",
        "\n",
        "Example: Salary data (where very high salaries distort results) → log transform to normalize.\n",
        "\n",
        "3. Capping (Winsorization)\n",
        "\n",
        "Replace extreme values with a threshold (like percentile values).\n",
        "\n",
        "Example:\n",
        "\n",
        "Replace values above the 95th percentile with the 95th percentile value.\n",
        "\n",
        "Replace values below the 5th percentile with the 5th percentile value."
      ],
      "metadata": {
        "id": "O1sof-hgQCDp"
      }
    },
    {
      "cell_type": "markdown",
      "source": [
        "**Question 5: Explain the process of handling missing values and mention one imputation technique for numerical and one for categorical data.**\n",
        "\n",
        "Handling missing values involves identifying them, understanding their patterns, and then imputing them with estimated values to preserve data integrity, using techniques like mean/median imputation for numerical data or mode/new-category imputation for categorical data.\n",
        "\n",
        "Understanding the Missing Data\n",
        "\n",
        "Pattern Identification:\n",
        "Determine why the data is missing (e.g., completely at random, at random, or not at random) to inform the best imputation strategy.\n",
        "Complete Case Analysis (CCA):\n",
        "As a first step, consider dropping rows or columns with missing data, though this should only be done if the amount of missing data is very small (e.g., less than 5%).\n",
        "\n",
        "Imputation for Numerical Data\n",
        "\n",
        "Mean Imputation:\n",
        "Replace missing numerical values with the mean (average) of the existing values in that column.\n",
        "Median Imputation:\n",
        "Replace missing numerical values with the median (middle value) of the existing data in the column, which is a good alternative if there are outliers.\n",
        "\n",
        "Imputation for Categorical Data\n",
        "\n",
        "Mode Imputation:\n",
        "Replace missing categorical values with the mode (the most frequent category) of that column.\n",
        "New Category Imputation:\n",
        "Treat the missing values as a distinct category (e.g., \"Unknown\" or \"Missing\"), which allows you to keep the information and avoid any loss of data points."
      ],
      "metadata": {
        "id": "Cqy5dyTlQjRY"
      }
    },
    {
      "cell_type": "markdown",
      "source": [
        "**Question 6: Write a Python program that:**\n",
        "\n",
        "●**Creates a synthetic imbalanced dataset with make_classification() from sklearn.datasets.**\n",
        "\n",
        "**● Prints the class distribution.**\n",
        "\n"
      ],
      "metadata": {
        "id": "Wfgc-lZ-RN5s"
      }
    },
    {
      "cell_type": "code",
      "source": [
        "from sklearn.datasets import make_classification\n",
        "import numpy as np\n",
        "from collections import Counter\n",
        "\n",
        "# Step 1: Create a synthetic imbalanced dataset\n",
        "X, y = make_classification(n_samples=1000,\n",
        "                           n_features=10,\n",
        "                           n_informative=5,\n",
        "                           n_redundant=2,\n",
        "                           n_classes=2,\n",
        "                           weights=[0.9, 0.1],\n",
        "                           random_state=42)\n",
        "\n",
        "# Step 2: Print the class distribution\n",
        "class_distribution = Counter(y)\n",
        "print(\"Class distribution:\", class_distribution)\n",
        "\n"
      ],
      "metadata": {
        "colab": {
          "base_uri": "https://localhost:8080/"
        },
        "id": "nViJQQ0qR0jh",
        "outputId": "5ee064f4-d8f6-4539-9f2f-ff34d5c48bcd"
      },
      "execution_count": 1,
      "outputs": [
        {
          "output_type": "stream",
          "name": "stdout",
          "text": [
            "Class distribution: Counter({np.int64(0): 896, np.int64(1): 104})\n"
          ]
        }
      ]
    },
    {
      "cell_type": "markdown",
      "source": [
        "**Question 7: Implement one-hot encoding using pandas for the following list of colors:**\n",
        "**['Red', 'Green', 'Blue', 'Green', 'Red']. Print the resulting dataframe.**\n"
      ],
      "metadata": {
        "id": "4SVj5KpqSJLS"
      }
    },
    {
      "cell_type": "code",
      "source": [
        "import pandas as pd\n",
        "\n",
        "colors = ['Red', 'Green', 'Blue', 'Green', 'Red']\n",
        "\n",
        "color_series = pd.Series(colors)\n",
        "\n",
        "one_hot_encoded_df = pd.get_dummies(color_series, prefix='Color')\n",
        "\n",
        "\n",
        "print(one_hot_encoded_df)"
      ],
      "metadata": {
        "colab": {
          "base_uri": "https://localhost:8080/"
        },
        "id": "vLAtQ8T8Sce0",
        "outputId": "8f16b834-3c6a-40a4-e34f-ea7903590bc4"
      },
      "execution_count": 2,
      "outputs": [
        {
          "output_type": "stream",
          "name": "stdout",
          "text": [
            "   Color_Blue  Color_Green  Color_Red\n",
            "0       False        False       True\n",
            "1       False         True      False\n",
            "2        True        False      False\n",
            "3       False         True      False\n",
            "4       False        False       True\n"
          ]
        }
      ]
    },
    {
      "cell_type": "markdown",
      "source": [
        "**Question 8: Write a Python script to:**\n",
        "\n",
        "**● Generate 1000 samples from a normal distribution.**\n",
        "\n",
        "**● Introduce 50 random missing values.**\n",
        "\n",
        "**● Fill missing values with the column mean**.\n",
        "\n",
        "**● Plot a histogram before and after imputation.**"
      ],
      "metadata": {
        "id": "fs-74HzNSTxB"
      }
    },
    {
      "cell_type": "code",
      "source": [
        "import numpy as np\n",
        "import pandas as pd\n",
        "import matplotlib.pyplot as plt\n",
        "\n",
        "\n",
        "np.random.seed(42)\n",
        "data = np.random.normal(loc=0, scale=1, size=1000)\n",
        "df = pd.DataFrame({'values': data})\n",
        "\n",
        "\n",
        "missing_indices = np.random.choice(df.index, size=50, replace=False)\n",
        "df.loc[missing_indices, 'values'] = np.nan\n",
        "\n",
        "\n",
        "df_before_imputation = df.copy()\n",
        "\n",
        "\n",
        "mean_value = df['values'].mean()\n",
        "df['values'].fillna(mean_value, inplace=True)\n",
        "\n",
        "\n",
        "plt.figure(figsize=(12, 5))\n",
        "\n",
        "\n",
        "plt.subplot(1, 2, 1)\n",
        "plt.hist(df_before_imputation['values'].dropna(), bins=30, edgecolor='black')\n",
        "plt.title('Histogram Before Imputation (Missing Values Removed)')\n",
        "plt.xlabel('Value')\n",
        "plt.ylabel('Frequency')\n",
        "\n",
        "\n",
        "plt.subplot(1, 2, 2)\n",
        "plt.hist(df['values'], bins=30, edgecolor='black')\n",
        "plt.title('Histogram After Imputation (Mean Imputation)')\n",
        "plt.xlabel('Value')\n",
        "plt.ylabel('Frequency')\n",
        "\n",
        "plt.tight_layout()\n",
        "plt.show()"
      ],
      "metadata": {
        "colab": {
          "base_uri": "https://localhost:8080/",
          "height": 648
        },
        "id": "7iYc7BOcS0Pv",
        "outputId": "92465d56-dbec-4283-80b4-4f7b9d2fce7b"
      },
      "execution_count": 3,
      "outputs": [
        {
          "output_type": "stream",
          "name": "stderr",
          "text": [
            "/tmp/ipython-input-376828590.py:19: FutureWarning: A value is trying to be set on a copy of a DataFrame or Series through chained assignment using an inplace method.\n",
            "The behavior will change in pandas 3.0. This inplace method will never work because the intermediate object on which we are setting values always behaves as a copy.\n",
            "\n",
            "For example, when doing 'df[col].method(value, inplace=True)', try using 'df.method({col: value}, inplace=True)' or df[col] = df[col].method(value) instead, to perform the operation inplace on the original object.\n",
            "\n",
            "\n",
            "  df['values'].fillna(mean_value, inplace=True)\n"
          ]
        },
        {
          "output_type": "display_data",
          "data": {
            "text/plain": [
              "<Figure size 1200x500 with 2 Axes>"
            ],
            "image/png": "[encoded data removed]"
          },
          "metadata": {}
        }
      ]
    },
    {
      "cell_type": "markdown",
      "source": [
        "**Question 9: Implement Min-Max scaling on the following list of numbers [2, 5, 10, 15,20] using sklearn.preprocessing.MinMaxScaler. Print the scaled array.**\n"
      ],
      "metadata": {
        "id": "P6P5mxWdTIRd"
      }
    },
    {
      "cell_type": "code",
      "source": [
        "import numpy as np\n",
        "from sklearn.preprocessing import MinMaxScaler\n",
        "\n",
        "\n",
        "data = np.array([2, 5, 10, 15, 20]).reshape(-1, 1)\n",
        "\n",
        "\n",
        "scaler = MinMaxScaler()\n",
        "\n",
        "\n",
        "scaled_data = scaler.fit_transform(data)\n",
        "\n",
        "\n",
        "print(scaled_data)"
      ],
      "metadata": {
        "colab": {
          "base_uri": "https://localhost:8080/"
        },
        "id": "AqhKzbIlTP_P",
        "outputId": "cfdd5f65-c955-4fa5-bf29-b53ce5019d0e"
      },
      "execution_count": 4,
      "outputs": [
        {
          "output_type": "stream",
          "name": "stdout",
          "text": [
            "[[0.        ]\n",
            " [0.16666667]\n",
            " [0.44444444]\n",
            " [0.72222222]\n",
            " [1.        ]]\n"
          ]
        }
      ]
    },
    {
      "cell_type": "markdown",
      "source": [
        "**Question 10: You are working as a data scientist for a retail company. You receive a customer transaction dataset that contains:**\n",
        "\n",
        "**● Missing ages,**\n",
        "\n",
        "**● Outliers in transaction amount,**\n",
        "\n",
        "**● A highly imbalanced target (fraud vs. non-fraud),**\n",
        "\n",
        "**● Categorical variables like payment method.**\n",
        "\n",
        "***Explain the step-by-step data preparation plan you’d follow before training a machine learning model. Include how you’d address missing data, outliers, imbalance, and encoding***\n",
        "\n",
        "**Quick data audit & problem framing**\n",
        "\n",
        "Actions: compute missingness %, value counts for payment_method, distribution (hist/box) of transaction_amount, class balance for is_fraud, check time/date column and duplicates.\n",
        "\n",
        "Why: helps decide strategies (e.g., if >40% ages missing, model-based imputation may be unstable; if outliers are correlated with fraud, they’re signal not noise).\n",
        "\n",
        "Checks: is the dataset time-ordered? (If yes, use time-aware split / features.)\n",
        "\n",
        "**Split early (avoid leakage)**\n",
        "\n",
        "Action: split into train / validation / test before any target-dependent transformations (target encoding, resampling, etc.). Use stratified split on the fraud label (or time split if temporal).\n",
        "\n",
        "Why: any operation that uses target distribution or future info must be fit only on training data.\n",
        "\n",
        "\n",
        "**Missing data (ages)**\n",
        "\n",
        "Explore missingness mechanism: MCAR / MAR / MNAR. If missingness is informative (e.g., young users tend not to provide age), create a age_missing indicator.\n",
        "\n",
        "Practical options (in order of preference):\n",
        "\n",
        "Simple: SimpleImputer(strategy='median') — robust to skew and outliers. Good baseline.\n",
        "\n",
        "Model-based: KNNImputer or IterativeImputer(MICE) using correlated features (customer tenure, avg spend, location). Better if many features predict age.\n",
        "\n",
        "If MNAR / lots missing: treat “missing” as its own category or build separate model for users with missing age.\n",
        "\n",
        "Always: keep a binary flag age_was_missing and consider interactions with other features.\n",
        "\n",
        "\n",
        "**Outliers in transaction_amount**\n",
        "\n",
        "Detect (univariate + multivariate):\n",
        "\n",
        "Univariate: IQR rule (below Q1−1.5·IQR or above Q3+1.5·IQR) or Z-score > 3.\n",
        "\n",
        "Multivariate: Isolation Forest, Local Outlier Factor, or clustering-based detection (useful if many features).\n",
        "\n",
        "Decide: error vs true signal\n",
        "\n",
        "If outliers are data errors → correct or remove.\n",
        "\n",
        "If outliers are real (e.g., genuine big purchases) — they may be strong fraud signal: DO NOT blindy delete.\n",
        "\n",
        "Treatment options:\n",
        "\n",
        "Transformation: log1p(transaction_amount) reduces skew and stabilizes variance.\n",
        "\n",
        "Capping/Winsorization: replace extremes with 1st/99th percentile (if domain supports).\n",
        "\n",
        "Create flags: is_large_txn (e.g., amount > 99th percentile) — keeps signal explicit.\n",
        "\n",
        "Robust scaling: RobustScaler() (uses median & IQR) before models sensitive to scale.\n",
        "\n",
        "Rule of thumb: prefer transformation + flags over deleting.\n",
        "\n",
        "Categorical variables (payment method etc.)\n",
        "\n",
        "Low cardinality (few methods): OneHotEncoder(handle_unknown='ignore').\n",
        "\n",
        "High cardinality (merchant id, device id): frequency encoding or target encoding (with smoothing + K-fold to avoid leakage).\n",
        "\n",
        "If using tree models: simple label/ordinal encoding often suffice.\n",
        "\n",
        "Missing payment_method: treat as \"Unknown\" category; don’t impute by most frequent blindly.\n",
        "\n",
        "\n",
        "**Imbalance (fraud << non-fraud)**\n",
        "\n",
        "Evaluation-first: choose proper metrics: Precision, Recall, F1, PR-AUC (area under precision-recall curve), and application-specific cost matrix. ROC-AUC can be misleading when classes are extremely imbalanced.\n",
        "\n"
      ],
      "metadata": {
        "id": "nhUaBFG4TgJE"
      }
    },
    {
      "cell_type": "code",
      "source": [
        "import numpy as np\n",
        "import pandas as pd\n",
        "\n",
        "from sklearn.model_selection import train_test_split\n",
        "from sklearn.pipeline import Pipeline\n",
        "from imblearn.pipeline import Pipeline as ImbPipeline\n",
        "from imblearn.over_sampling import SMOTE\n",
        "from sklearn.compose import ColumnTransformer\n",
        "from sklearn.impute import SimpleImputer\n",
        "from sklearn.preprocessing import OneHotEncoder, RobustScaler, FunctionTransformer\n",
        "from sklearn.ensemble import RandomForestClassifier\n",
        "from sklearn.metrics import classification_report\n",
        "\n",
        "# --------------------------\n",
        "# Step 1: Create dummy dataset\n",
        "# --------------------------\n",
        "np.random.seed(42)\n",
        "df = pd.DataFrame({\n",
        "    \"age\": np.random.choice([25, 35, 45, np.nan], size=200, p=[0.3, 0.3, 0.3, 0.1]),\n",
        "    \"transaction_amount\": np.random.exponential(scale=100, size=200),\n",
        "    \"payment_method\": np.random.choice([\"Card\", \"Cash\", \"UPI\"], size=200),\n",
        "    \"is_fraud\": np.random.choice([0, 1], size=200, p=[0.9, 0.1])  # imbalanced\n",
        "})\n",
        "\n",
        "# --------------------------\n",
        "# Step 2: Train-test split\n",
        "# --------------------------\n",
        "X = df.drop(\"is_fraud\", axis=1)\n",
        "y = df[\"is_fraud\"]\n",
        "\n",
        "X_train, X_test, y_train, y_test = train_test_split(\n",
        "    X, y, stratify=y, test_size=0.2, random_state=42\n",
        ")\n",
        "\n",
        "# --------------------------\n",
        "# Step 3: Define preprocessing\n",
        "# --------------------------\n",
        "num_cols = [\"age\", \"transaction_amount\"]\n",
        "cat_cols = [\"payment_method\"]\n",
        "\n",
        "num_pipe = Pipeline([\n",
        "    (\"impute\", SimpleImputer(strategy=\"median\")),\n",
        "    (\"log\", FunctionTransformer(np.log1p, validate=False)),  # log-transform amounts\n",
        "    (\"scale\", RobustScaler())\n",
        "])\n",
        "\n",
        "cat_pipe = Pipeline([\n",
        "    (\"impute\", SimpleImputer(strategy=\"constant\", fill_value=\"MISSING\")),\n",
        "    (\"ohe\", OneHotEncoder(handle_unknown=\"ignore\"))\n",
        "])\n",
        "\n",
        "preproc = ColumnTransformer([\n",
        "    (\"num\", num_pipe, num_cols),\n",
        "    (\"cat\", cat_pipe, cat_cols)\n",
        "])\n",
        "\n",
        "# --------------------------\n",
        "# Step 4: Full pipeline (with SMOTE)\n",
        "# --------------------------\n",
        "pipeline = ImbPipeline([\n",
        "    (\"preproc\", preproc),\n",
        "    (\"smote\", SMOTE(random_state=42)),\n",
        "    (\"clf\", RandomForestClassifier(class_weight=\"balanced\", n_estimators=100, random_state=42))\n",
        "])\n",
        "\n",
        "# --------------------------\n",
        "# Step 5: Train & Evaluate\n",
        "# --------------------------\n",
        "pipeline.fit(X_train, y_train)\n",
        "y_pred = pipeline.predict(X_test)\n",
        "\n",
        "print(classification_report(y_test, y_pred))\n"
      ],
      "metadata": {
        "colab": {
          "base_uri": "https://localhost:8080/"
        },
        "id": "CovGKWJrXiH6",
        "outputId": "fbd3a265-de24-4de3-89ab-1241ad814ba9"
      },
      "execution_count": 6,
      "outputs": [
        {
          "output_type": "stream",
          "name": "stdout",
          "text": [
            "              precision    recall  f1-score   support\n",
            "\n",
            "           0       0.97      0.86      0.91        37\n",
            "           1       0.29      0.67      0.40         3\n",
            "\n",
            "    accuracy                           0.85        40\n",
            "   macro avg       0.63      0.77      0.66        40\n",
            "weighted avg       0.92      0.85      0.88        40\n",
            "\n"
          ]
        }
      ]
    }
  ]
}